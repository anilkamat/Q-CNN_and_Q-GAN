{
 "cells": [
  {
   "cell_type": "code",
   "execution_count": 145,
   "metadata": {},
   "outputs": [],
   "source": [
    "import pandas as pd\n",
    "from sklearn.preprocessing import LabelEncoder"
   ]
  },
  {
   "cell_type": "code",
   "execution_count": 146,
   "metadata": {},
   "outputs": [
    {
     "name": "stdout",
     "output_type": "stream",
     "text": [
      "trian has 891 rows and 12 columns\n",
      "Test has 418 rows and 11  columns\n",
      "<class 'pandas.core.frame.DataFrame'>\n",
      "RangeIndex: 891 entries, 0 to 890\n",
      "Data columns (total 12 columns):\n",
      " #   Column       Non-Null Count  Dtype  \n",
      "---  ------       --------------  -----  \n",
      " 0   PassengerId  891 non-null    int64  \n",
      " 1   Survived     891 non-null    int64  \n",
      " 2   Pclass       891 non-null    int64  \n",
      " 3   Name         891 non-null    object \n",
      " 4   Sex          891 non-null    object \n",
      " 5   Age          714 non-null    float64\n",
      " 6   SibSp        891 non-null    int64  \n",
      " 7   Parch        891 non-null    int64  \n",
      " 8   Ticket       891 non-null    object \n",
      " 9   Fare         891 non-null    float64\n",
      " 10  Cabin        204 non-null    object \n",
      " 11  Embarked     889 non-null    object \n",
      "dtypes: float64(2), int64(5), object(5)\n",
      "memory usage: 83.7+ KB\n",
      "<class 'pandas.core.frame.DataFrame'>\n",
      "RangeIndex: 418 entries, 0 to 417\n",
      "Data columns (total 11 columns):\n",
      " #   Column       Non-Null Count  Dtype  \n",
      "---  ------       --------------  -----  \n",
      " 0   PassengerId  418 non-null    int64  \n",
      " 1   Pclass       418 non-null    int64  \n",
      " 2   Name         418 non-null    object \n",
      " 3   Sex          418 non-null    object \n",
      " 4   Age          332 non-null    float64\n",
      " 5   SibSp        418 non-null    int64  \n",
      " 6   Parch        418 non-null    int64  \n",
      " 7   Ticket       418 non-null    object \n",
      " 8   Fare         417 non-null    float64\n",
      " 9   Cabin        91 non-null     object \n",
      " 10  Embarked     418 non-null    object \n",
      "dtypes: float64(2), int64(4), object(5)\n",
      "memory usage: 36.0+ KB\n"
     ]
    }
   ],
   "source": [
    "train = pd.read_csv(r'C:\\Users\\kamata3\\Work\\QML\\titanic\\train.csv')\n",
    "test = pd.read_csv(r'C:\\Users\\kamata3\\Work\\QML\\titanic\\test.csv')\n",
    "print('trian has {} rows and {} columns' .format(*train.shape))\n",
    "print('Test has {} rows and {}  columns'.format(*test.shape))\n",
    "train.info()\n",
    "test.info()"
   ]
  },
  {
   "cell_type": "code",
   "execution_count": 147,
   "metadata": {},
   "outputs": [
    {
     "data": {
      "text/html": [
       "<div>\n",
       "<style scoped>\n",
       "    .dataframe tbody tr th:only-of-type {\n",
       "        vertical-align: middle;\n",
       "    }\n",
       "\n",
       "    .dataframe tbody tr th {\n",
       "        vertical-align: top;\n",
       "    }\n",
       "\n",
       "    .dataframe thead th {\n",
       "        text-align: right;\n",
       "    }\n",
       "</style>\n",
       "<table border=\"1\" class=\"dataframe\">\n",
       "  <thead>\n",
       "    <tr style=\"text-align: right;\">\n",
       "      <th></th>\n",
       "      <th>Survived</th>\n",
       "      <th>Pclass</th>\n",
       "      <th>Sex</th>\n",
       "      <th>Age</th>\n",
       "      <th>SibSp</th>\n",
       "      <th>Parch</th>\n",
       "      <th>Fare</th>\n",
       "      <th>Embarked</th>\n",
       "    </tr>\n",
       "  </thead>\n",
       "  <tbody>\n",
       "    <tr>\n",
       "      <th>0</th>\n",
       "      <td>0</td>\n",
       "      <td>3</td>\n",
       "      <td>1</td>\n",
       "      <td>22.0</td>\n",
       "      <td>1</td>\n",
       "      <td>0</td>\n",
       "      <td>7.2500</td>\n",
       "      <td>2</td>\n",
       "    </tr>\n",
       "    <tr>\n",
       "      <th>1</th>\n",
       "      <td>1</td>\n",
       "      <td>1</td>\n",
       "      <td>0</td>\n",
       "      <td>38.0</td>\n",
       "      <td>1</td>\n",
       "      <td>0</td>\n",
       "      <td>71.2833</td>\n",
       "      <td>0</td>\n",
       "    </tr>\n",
       "    <tr>\n",
       "      <th>2</th>\n",
       "      <td>1</td>\n",
       "      <td>3</td>\n",
       "      <td>0</td>\n",
       "      <td>26.0</td>\n",
       "      <td>0</td>\n",
       "      <td>0</td>\n",
       "      <td>7.9250</td>\n",
       "      <td>2</td>\n",
       "    </tr>\n",
       "    <tr>\n",
       "      <th>3</th>\n",
       "      <td>1</td>\n",
       "      <td>1</td>\n",
       "      <td>0</td>\n",
       "      <td>35.0</td>\n",
       "      <td>1</td>\n",
       "      <td>0</td>\n",
       "      <td>53.1000</td>\n",
       "      <td>2</td>\n",
       "    </tr>\n",
       "    <tr>\n",
       "      <th>4</th>\n",
       "      <td>0</td>\n",
       "      <td>3</td>\n",
       "      <td>1</td>\n",
       "      <td>35.0</td>\n",
       "      <td>0</td>\n",
       "      <td>0</td>\n",
       "      <td>8.0500</td>\n",
       "      <td>2</td>\n",
       "    </tr>\n",
       "  </tbody>\n",
       "</table>\n",
       "</div>"
      ],
      "text/plain": [
       "   Survived  Pclass  Sex   Age  SibSp  Parch     Fare  Embarked\n",
       "0         0       3    1  22.0      1      0   7.2500         2\n",
       "1         1       1    0  38.0      1      0  71.2833         0\n",
       "2         1       3    0  26.0      0      0   7.9250         2\n",
       "3         1       1    0  35.0      1      0  53.1000         2\n",
       "4         0       3    1  35.0      0      0   8.0500         2"
      ]
     },
     "execution_count": 147,
     "metadata": {},
     "output_type": "execute_result"
    }
   ],
   "source": [
    "# data cleaing and preparation\n",
    "train = train.dropna(subset=['Embarked'])\n",
    "train = train.drop('Cabin', axis = 1)\n",
    "mean = train['Age'].mean()\n",
    "train['Age'] = train['Age'].fillna(mean)\n",
    "\n",
    "train = train.drop(\"PassengerId\", axis=1)\n",
    "train = train.drop(\"Name\", axis=1)\n",
    "train = train.drop(\"Ticket\", axis=1)\n",
    "\n",
    "# handling text and catogorical data\n",
    "le = LabelEncoder()\n",
    "for col in ['Sex', 'Embarked']:\n",
    "    le.fit(train[col])\n",
    "    train[col] = le.transform(train[col])\n",
    "train.head()\n",
    "\n",
    "#train.info()"
   ]
  },
  {
   "cell_type": "code",
   "execution_count": 148,
   "metadata": {},
   "outputs": [
    {
     "name": "stdout",
     "output_type": "stream",
     "text": [
      "The maximum age is 80.0\n",
      "The maximum fare is 512.3292\n"
     ]
    }
   ],
   "source": [
    "print('The maximum age is {}'.format(train[\"Age\"].max()))\n",
    "print('The maximum fare is {}'.format(train[\"Fare\"].max()))"
   ]
  },
  {
   "cell_type": "code",
   "execution_count": 149,
   "metadata": {},
   "outputs": [
    {
     "name": "stdout",
     "output_type": "stream",
     "text": [
      "The minimum value is 0.0 and the maximum value is 1.0\n"
     ]
    }
   ],
   "source": [
    "# Normalization\n",
    "from sklearn.preprocessing import MinMaxScaler\n",
    "scaler = MinMaxScaler()\n",
    "scaler.fit(train)\n",
    "train = scaler.transform(train)\n",
    "print('The minimum value is {} and the maximum value is {}'.format(train.min(), train.max()))"
   ]
  },
  {
   "cell_type": "code",
   "execution_count": 150,
   "metadata": {},
   "outputs": [
    {
     "name": "stdout",
     "output_type": "stream",
     "text": [
      "We have 711 training and 178 testing rows\n",
      "There are 7 input columns\n"
     ]
    }
   ],
   "source": [
    "from sklearn.model_selection import train_test_split\n",
    "input_data = train[:, 1:8]\n",
    "labels = train[:, 0]\n",
    "\n",
    "train_input, test_input, train_labels, test_labels = train_test_split(input_data, labels, test_size = 0.2)\n",
    "print('We have {} training and {} testing rows'.format(train_input.shape[0], test_input.shape[0]))\n",
    "print('There are {} input columns'.format(train_input.shape[1]))"
   ]
  },
  {
   "cell_type": "code",
   "execution_count": 151,
   "metadata": {},
   "outputs": [],
   "source": [
    "# save the data for future use\n",
    "import numpy as np\n",
    "with open('titanic/train.npy', 'wb') as f:\n",
    "    np.save(f, train_input)\n",
    "    np.save(f, train_labels)\n",
    "with open('titanic/test.npy', 'wb') as f:\n",
    "    np.save(f, test_input)\n",
    "    np.save(f, test_labels)"
   ]
  },
  {
   "cell_type": "code",
   "execution_count": 152,
   "metadata": {},
   "outputs": [],
   "source": [
    "with open('titanic/train.npy', 'rb') as f:\n",
    "    train_input = np.load(f)\n",
    "    train_labels = np.load(f)\n",
    "\n",
    "with open('titanic/test.npy', 'rb') as f:\n",
    "    test_input = np.load(f)\n",
    "    test_labels = np.load(f)"
   ]
  },
  {
   "cell_type": "code",
   "execution_count": 153,
   "metadata": {},
   "outputs": [],
   "source": [
    "from sklearn.metrics import confusion_matrix, precision_score, recall_score"
   ]
  },
  {
   "cell_type": "code",
   "execution_count": 154,
   "metadata": {},
   "outputs": [],
   "source": [
    "def specificity(matrix):\n",
    "    return matrix[0][0]/(matrix[0][0]+matrix[0][1]) if (matrix[0][0]+matrix[0][1] > 0) else 0\n",
    "\n",
    "def npv(matrix):\n",
    "    return matrix[0][0]/(matrix[0][0]+matrix[1][0]) if (matrix[0][0]+matrix[1][0] > 0) else 0\n",
    "\n",
    "def run(f_classify, x):\n",
    "    return list(map(f_classify, x))"
   ]
  },
  {
   "cell_type": "code",
   "execution_count": 155,
   "metadata": {},
   "outputs": [],
   "source": [
    "from qiskit import execute, QuantumCircuit, Aer"
   ]
  },
  {
   "cell_type": "code",
   "execution_count": 156,
   "metadata": {},
   "outputs": [],
   "source": [
    "def pqc_classify(passanger_state, backend):\n",
    "    qc = QuantumCircuit(1)\n",
    "    qc.initialize(passanger_state, 0)\n",
    "    qc.measure_all()\n",
    "    results = execute(qc, backend).result()\n",
    "    counts = results.get_counts()\n",
    "    #print(counts)\n",
    "    #return counts\n",
    "    return int(list(map(lambda item: item[0], counts.items()))[0])"
   ]
  },
  {
   "cell_type": "code",
   "execution_count": 157,
   "metadata": {},
   "outputs": [],
   "source": [
    "def classifier_report(name, run, classify, input, labels):\n",
    "    cr_prediction = run(classify, input)\n",
    "    # print(cr_prediction)\n",
    "    cr_cm =confusion_matrix(labels, cr_prediction)\n",
    "    cr_precision = precision_score(labels, cr_prediction)\n",
    "    cr_recall = recall_score(labels, cr_prediction)\n",
    "    cr_specificity = specificity(cr_cm)\n",
    "    cr_npv = npv(cr_cm)\n",
    "    cr_level = 0.25*(cr_precision + cr_recall + cr_specificity + cr_npv)\n",
    "    print('The precision score of the Random PQC classifier is', cr_precision)\n",
    "    print('The recall score of the Random PQC classifier is', cr_recall)\n",
    "    print('The specificity of the Random PQC classifier is', cr_specificity)\n",
    "    print('The NPV score of the Random PQC classifier is', cr_npv)\n",
    "    print('The information level Random PQC classifier is', cr_level)"
   ]
  },
  {
   "cell_type": "code",
   "execution_count": 158,
   "metadata": {},
   "outputs": [
    {
     "name": "stdout",
     "output_type": "stream",
     "text": [
      "The precision score of the Random PQC classifier is 0.410958904109589\n",
      "The recall score of the Random PQC classifier is 0.5376344086021505\n",
      "The specificity of the Random PQC classifier is 0.5023148148148148\n",
      "The NPV score of the Random PQC classifier is 0.6271676300578035\n",
      "The information level Random PQC classifier is 0.5195189393960895\n"
     ]
    }
   ],
   "source": [
    "qc = QuantumCircuit(1)\n",
    "backend = Aer.get_backend('statevector_simulator')\n",
    "# Specify the quantum state that results in either 0 or 1\n",
    "initial_state = [1/np.sqrt(2), 1/np.sqrt(2)]\n",
    "\n",
    "classifier_report(\"Random PQC\",run,lambda passenger: pqc_classify( initial_state, backend),train_input,train_labels)"
   ]
  },
  {
   "cell_type": "markdown",
   "metadata": {},
   "source": [
    "Variational Hybrid Quantum‐Classical Algorithm"
   ]
  },
  {
   "cell_type": "code",
   "execution_count": 159,
   "metadata": {},
   "outputs": [],
   "source": [
    "def pre_process(passanger):\n",
    "    quantum_state = [1/np.sqrt(2), 1/np.sqrt(2)]\n",
    "    return quantum_state\n",
    "\n",
    "def pqc(backend, quantum_state):\n",
    "    qc = QuantumCircuit(1)\n",
    "    qc.initialize(quantum_state, 0)\n",
    "    qc.measure_all()\n",
    "    results = execute(qc,backend).result()\n",
    "    counts = results.get_counts()\n",
    "    return counts\n",
    "\n",
    "def post_process(counts):\n",
    "    # return int(list(lambda item: item[0], counts.item())[0])\n",
    "    return int(list(map(lambda item: item[0],counts.items()))[0])\n",
    "    "
   ]
  },
  {
   "cell_type": "code",
   "execution_count": 160,
   "metadata": {},
   "outputs": [
    {
     "name": "stdout",
     "output_type": "stream",
     "text": [
      "The precision score of the Random PQC classifier is 0.38243626062322944\n",
      "The recall score of the Random PQC classifier is 0.4838709677419355\n",
      "The specificity of the Random PQC classifier is 0.49537037037037035\n",
      "The NPV score of the Random PQC classifier is 0.5977653631284916\n",
      "The information level Random PQC classifier is 0.4898607404660067\n"
     ]
    }
   ],
   "source": [
    "# Tell Qiskit how to simulate our circuit\n",
    "backend = Aer.get_backend('statevector_simulator')\n",
    "classifier_report(\"Variational\",run,lambda passenger: post_process(pqc(backend,\n",
    " pre_process(passenger))),train_input,train_labels)"
   ]
  },
  {
   "cell_type": "code",
   "execution_count": 161,
   "metadata": {},
   "outputs": [],
   "source": [
    "def weigh_feature(feature, weight):\n",
    "    return feature*weight\n",
    "\n",
    "from functools import reduce \n",
    "\n",
    "def get_overall_probability(features, weights):\n",
    "    return reduce(lambda result, data: result+weigh_feature(*data), zip(features, weights), 0)\n"
   ]
  },
  {
   "cell_type": "code",
   "execution_count": 162,
   "metadata": {},
   "outputs": [
    {
     "data": {
      "text/plain": [
       "[-0.31901567204795245,\n",
       " -0.5454925198242138,\n",
       " -0.06448989253745993,\n",
       " 0.08703603878695323,\n",
       " 0.12768580890741563,\n",
       " 0.31258559525823626,\n",
       " -0.18565973139726472]"
      ]
     },
     "execution_count": 162,
     "metadata": {},
     "output_type": "execute_result"
    }
   ],
   "source": [
    "# using correlation as a weights \n",
    "from scipy.stats import spearmanr\n",
    "columns = [list(map(lambda passenger: passenger[i], train_input)) for i\n",
    "in range(0,7)]\n",
    "correlations = list(map(lambda col: spearmanr(col, train_labels)[0],columns))\n",
    "correlations"
   ]
  },
  {
   "cell_type": "code",
   "execution_count": 163,
   "metadata": {},
   "outputs": [],
   "source": [
    "from math import pi, sin, cos\n",
    "def get_state (theta):\n",
    "    return [cos(theta/2), sin(theta/2)]\n",
    "def pre_process_weighted(passenger):\n",
    "    mu = get_overall_probability(passenger, correlations)\n",
    "    quantum_state = get_state((1-mu)*pi)\n",
    "    return quantum_state"
   ]
  },
  {
   "cell_type": "code",
   "execution_count": 171,
   "metadata": {},
   "outputs": [
    {
     "name": "stdout",
     "output_type": "stream",
     "text": [
      "The precision score of the Random PQC classifier is 0.7035398230088495\n",
      "The recall score of the Random PQC classifier is 0.5698924731182796\n",
      "The specificity of the Random PQC classifier is 0.8449074074074074\n",
      "The NPV score of the Random PQC classifier is 0.7525773195876289\n",
      "The information level Random PQC classifier is 0.7177292557805414\n",
      "testing...\n",
      "The precision score of the Random PQC classifier is 0.6415094339622641\n",
      "The recall score of the Random PQC classifier is 0.5573770491803278\n",
      "The specificity of the Random PQC classifier is 0.8376068376068376\n",
      "The NPV score of the Random PQC classifier is 0.784\n",
      "The information level Random PQC classifier is 0.7051233301873574\n"
     ]
    }
   ],
   "source": [
    "# rerun the PQC with weighted features\n",
    "backend = Aer.get_backend('statevector_simulator')\n",
    "classifier_report(\"Variational\",run,lambda passenger: post_process(pqc(backend,\n",
    " pre_process_weighted(passenger))),train_input,train_labels)\n",
    "\n",
    "# test \n",
    "print('testing...')\n",
    "classifier_report(\"Variational-test\",run,lambda passenger: post_process(pqc(backend,\n",
    " pre_process_weighted(passenger))),test_input,test_labels)"
   ]
  }
 ],
 "metadata": {
  "interpreter": {
   "hash": "73bf90c314a002d217a267fcea6577a5f92d4ecc2c191b4d1bbdb6f11a1a4947"
  },
  "kernelspec": {
   "display_name": "Python 3.10.4 64-bit",
   "language": "python",
   "name": "python3"
  },
  "language_info": {
   "codemirror_mode": {
    "name": "ipython",
    "version": 3
   },
   "file_extension": ".py",
   "mimetype": "text/x-python",
   "name": "python",
   "nbconvert_exporter": "python",
   "pygments_lexer": "ipython3",
   "version": "3.10.4"
  },
  "orig_nbformat": 4
 },
 "nbformat": 4,
 "nbformat_minor": 2
}
