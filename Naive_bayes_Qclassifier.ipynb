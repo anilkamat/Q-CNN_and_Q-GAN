{
 "cells": [
  {
   "cell_type": "markdown",
   "metadata": {},
   "source": [
    "Variational Hybrid quantum-classical Naïve Bayes Classifier"
   ]
  },
  {
   "cell_type": "code",
   "execution_count": 11,
   "metadata": {},
   "outputs": [
    {
     "name": "stdout",
     "output_type": "stream",
     "text": [
      "<class 'pandas.core.frame.DataFrame'>\n",
      "RangeIndex: 891 entries, 0 to 890\n",
      "Data columns (total 12 columns):\n",
      " #   Column       Non-Null Count  Dtype  \n",
      "---  ------       --------------  -----  \n",
      " 0   PassengerId  891 non-null    int64  \n",
      " 1   Survived     891 non-null    int64  \n",
      " 2   Pclass       891 non-null    int64  \n",
      " 3   Name         891 non-null    object \n",
      " 4   Sex          891 non-null    object \n",
      " 5   Age          714 non-null    float64\n",
      " 6   SibSp        891 non-null    int64  \n",
      " 7   Parch        891 non-null    int64  \n",
      " 8   Ticket       891 non-null    object \n",
      " 9   Fare         891 non-null    float64\n",
      " 10  Cabin        204 non-null    object \n",
      " 11  Embarked     889 non-null    object \n",
      "dtypes: float64(2), int64(5), object(5)\n",
      "memory usage: 83.7+ KB\n"
     ]
    }
   ],
   "source": [
    "import pandas as pd\n",
    "\n",
    "train = pd.read_csv(r'C:\\Users\\kamata3\\Work\\QML\\titanic\\train.csv')\n",
    "train.info()"
   ]
  },
  {
   "cell_type": "code",
   "execution_count": 18,
   "metadata": {},
   "outputs": [
    {
     "name": "stdout",
     "output_type": "stream",
     "text": [
      "Number of survior:342 \n",
      "probability of surviving :0.384\n"
     ]
    }
   ],
   "source": [
    "survivors = train[train.Survived.eq(1)]\n",
    "# surv2 = train[train['Survived']==1]\n",
    "print(f'Number of survior:{len(survivors)} ')\n",
    "print('probability of surviving :{:.3f}'.format(len(survivors)/len(train)))"
   ]
  },
  {
   "cell_type": "code",
   "execution_count": 23,
   "metadata": {},
   "outputs": [
    {
     "name": "stdout",
     "output_type": "stream",
     "text": [
      "P(Survived|second_class) : 0.47282608695652173\n"
     ]
    }
   ],
   "source": [
    "SecondClassPassangers = train[train.Pclass.eq(2)]\n",
    "print(f'P(Survived|second_class) : {len(SecondClassPassangers[SecondClassPassangers.Survived.eq(1)])/len(SecondClassPassangers)}')"
   ]
  },
  {
   "cell_type": "code",
   "execution_count": 25,
   "metadata": {},
   "outputs": [
    {
     "name": "stdout",
     "output_type": "stream",
     "text": [
      "P(Survived|female) : 0.7420382165605095\n"
     ]
    }
   ],
   "source": [
    "female = train[train.Sex.eq('female')]\n",
    "print(f'P(Survived|female) : {len(female[female.Survived.eq(1)])/len(female)}')"
   ]
  },
  {
   "cell_type": "code",
   "execution_count": 32,
   "metadata": {},
   "outputs": [
    {
     "name": "stdout",
     "output_type": "stream",
     "text": [
      "P(Survived|(female+secondClassPassanger) :0.9210526315789473\n"
     ]
    }
   ],
   "source": [
    "female_survied = female[female.Survived.eq(1)]\n",
    "survived_female_secondClass = female_survied[female_survied.Pclass.eq(2)]\n",
    "female_secondClass = female[female.Pclass.eq(2)]\n",
    "print(f'P(Survived|(female+secondClassPassanger) :{len(survived_female_secondClass)/len(female_secondClass)}')"
   ]
  },
  {
   "cell_type": "markdown",
   "metadata": {},
   "source": [
    "Calculating the posterior probability\n",
    "P(survived|secondClass, female) = P(survived) *P(secondClass|survived) /P(secondClass) *P(female|survived) /P(female)"
   ]
  },
  {
   "cell_type": "code",
   "execution_count": 45,
   "metadata": {},
   "outputs": [
    {
     "name": "stdout",
     "output_type": "stream",
     "text": [
      "P(secondClass|survived)/P(secondClass) : 1.232\n",
      "informativeness: 0.232\n",
      "P(female|survived)/P(female) : 1.933\n",
      "informativeness 2: 0.933\n",
      "P(survived|secondClass, female): 0.914\n"
     ]
    }
   ],
   "source": [
    "P_secClassSurv = len(survivors[survivors.Pclass.eq(2)])/len(survivors)\n",
    "P_secClass = len(train[train.Pclass.eq(2)])/len(train)\n",
    "print('P(secondClass|survived)/P(secondClass) : {:.3f}'.format(P_secClassSurv/P_secClass ))\n",
    "print('informativeness: {:.3f}'.format(P_secClassSurv/P_secClass-1 ) )\n",
    "\n",
    "P_femSurv = len(survivors[survivors.Sex.eq('female')])/len(survivors)\n",
    "P_female = len(train[train.Sex.eq('female')])/len(train)\n",
    "print('P(female|survived)/P(female) : {:.3f}'.format(P_femSurv/P_female ))\n",
    "print('informativeness 2: {:.3f}'.format(P_femSurv/P_female-1 ) )\n",
    "\n",
    "P_surv = len(train[train.Survived.eq(1)])/len(train)\n",
    "P_surv_secClassFemale = P_surv* P_secClassSurv/P_secClass * P_femSurv/P_female\n",
    "print('P(survived|secondClass, female): {:.3f}'.format(P_surv_secClassFemale))\n",
    "\n"
   ]
  },
  {
   "cell_type": "markdown",
   "metadata": {},
   "source": [
    "Gaussian Naïve Bayes"
   ]
  },
  {
   "cell_type": "code",
   "execution_count": 50,
   "metadata": {},
   "outputs": [
    {
     "data": {
      "text/plain": [
       "<AxesSubplot:>"
      ]
     },
     "execution_count": 50,
     "metadata": {},
     "output_type": "execute_result"
    },
    {
     "data": {
      "image/png": "[encoded data removed]",
      "text/plain": [
       "<Figure size 432x288 with 1 Axes>"
      ]
     },
     "metadata": {
      "needs_background": "light"
     },
     "output_type": "display_data"
    }
   ],
   "source": [
    "train.Age.hist(bins=80)"
   ]
  },
  {
   "cell_type": "code",
   "execution_count": 63,
   "metadata": {},
   "outputs": [],
   "source": [
    "import numpy as np\n",
    "def P_density(x, mean, std):\n",
    "    return 1/(std*np.sqrt(2*np.pi))*np.exp(-0.5*((x-mean)/std)**2)\n"
   ]
  },
  {
   "cell_type": "markdown",
   "metadata": {},
   "source": [
    "P(survived| Age=29) =  P(Age=29)* P(Age=29| survived)/P(Age=29)\n"
   ]
  },
  {
   "cell_type": "code",
   "execution_count": 73,
   "metadata": {},
   "outputs": [
    {
     "name": "stdout",
     "output_type": "stream",
     "text": [
      "Average age 28.344 and std 14.951\n",
      "modifier:  0.9717992948773554\n",
      "informativeness: 0.028\n"
     ]
    }
   ],
   "source": [
    "mean_age = train['Age'].mean()\n",
    "std_age = train['Age'].std()\n",
    "P_age29 = P_density(29,mean_age,std_age)\n",
    "\n",
    "mean_age_surv = survivors['Age'].mean()\n",
    "std_age_surv = survivors['Age'].std()\n",
    "print('Average age {:.3f} and std {:.3f}'.format(mean_age_surv,std_age_surv))\n",
    "P_survived_age29  = P_density(29, mean_age_surv, std_age_surv)\n",
    "\n",
    "P_surv = len(survivors)/len(train)\n",
    "modifier = P_survived_age29/P_age29\n",
    "print('modifier: ',modifier)\n",
    "print('informativeness: {:.3f}'.format(abs(modifier-1)))\n"
   ]
  },
  {
   "cell_type": "code",
   "execution_count": 74,
   "metadata": {},
   "outputs": [
    {
     "name": "stdout",
     "output_type": "stream",
     "text": [
      "Average age 28.344 and std 14.951\n",
      "modifier:  0.9717992948773554\n",
      "informativeness 70age: 0.060\n",
      "informativeness 5age: 0.219\n"
     ]
    }
   ],
   "source": [
    "# Calculating informativenesses of other ages\n",
    "\n",
    "mean_age = train['Age'].mean()\n",
    "std_age = train['Age'].std()\n",
    "P_age70 = P_density(70,mean_age,std_age)\n",
    "P_age5 = P_density(5,mean_age,std_age)\n",
    "\n",
    "mean_age_surv = survivors['Age'].mean()\n",
    "std_age_surv = survivors['Age'].std()\n",
    "print('Average age {:.3f} and std {:.3f}'.format(mean_age_surv,std_age_surv))\n",
    "P_survived_age70  = P_density(70, mean_age_surv, std_age_surv)\n",
    "P_survived_age5  = P_density(5, mean_age_surv, std_age_surv)\n",
    "\n",
    "P_surv = len(survivors)/len(train)\n",
    "modifier70 = P_survived_age70/P_age70\n",
    "modifier5 = P_survived_age5/P_age5\n",
    "print('modifier: ',modifier)\n",
    "print('informativeness 70age: {:.3f}'.format(abs(modifier70-1)))\n",
    "print('informativeness 5age: {:.3f}'.format(abs(modifier5-1)))"
   ]
  }
 ],
 "metadata": {
  "interpreter": {
   "hash": "73bf90c314a002d217a267fcea6577a5f92d4ecc2c191b4d1bbdb6f11a1a4947"
  },
  "kernelspec": {
   "display_name": "Python 3.10.4 64-bit",
   "language": "python",
   "name": "python3"
  },
  "language_info": {
   "codemirror_mode": {
    "name": "ipython",
    "version": 3
   },
   "file_extension": ".py",
   "mimetype": "text/x-python",
   "name": "python",
   "nbconvert_exporter": "python",
   "pygments_lexer": "ipython3",
   "version": "3.10.4"
  },
  "orig_nbformat": 4
 },
 "nbformat": 4,
 "nbformat_minor": 2
}
